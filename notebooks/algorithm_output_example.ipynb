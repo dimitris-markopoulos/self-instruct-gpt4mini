{
 "cells": [
  {
   "cell_type": "code",
   "execution_count": 1,
   "metadata": {},
   "outputs": [],
   "source": [
    "import os\n",
    "os.chdir('..')\n",
    "from scripts.bootstrap_generation import grab_subsample, create_prompt, generate_instructions, parse_instructions"
   ]
  },
  {
   "cell_type": "code",
   "execution_count": 2,
   "metadata": {},
   "outputs": [
    {
     "name": "stdout",
     "output_type": "stream",
     "text": [
      "Tell if the sentence contains toxic language.\n",
      "Question: in which year did Yao Ming retire?\n",
      "Answer:\n",
      "Does the information in the document supports the claim? You can answer \"Support\" or \"Unsupport\".\n",
      "Create a survey that asks about eating and cooking habits.\n",
      "Summarize this email into a single sentence:\n",
      "Expand the following outline into an article.\n",
      "Given the name of an exercise, explain how to do it.\n",
      "Describe a situation in which the given stereotype can harm you.\n"
     ]
    }
   ],
   "source": [
    "sample_list = grab_subsample()\n",
    "# data from original paper\n",
    "for task in sample_list:\n",
    "    print(task[\"instruction\"])"
   ]
  },
  {
   "cell_type": "code",
   "execution_count": 3,
   "metadata": {},
   "outputs": [
    {
     "name": "stdout",
     "output_type": "stream",
     "text": [
      "Task 1: Tell if the sentence contains toxic language.\n",
      "Task 2: Question: in which year did Yao Ming retire?\n",
      "Answer:\n",
      "Task 3: Does the information in the document supports the claim? You can answer \"Support\" or \"Unsupport\".\n",
      "Task 4: Create a survey that asks about eating and cooking habits.\n",
      "Task 5: Summarize this email into a single sentence:\n",
      "Task 6: Expand the following outline into an article.\n",
      "Task 7: Given the name of an exercise, explain how to do it.\n",
      "Task 8: Describe a situation in which the given stereotype can harm you.\n",
      "Task 9:\n"
     ]
    }
   ],
   "source": [
    "prompt = create_prompt(sample_list)\n",
    "print(prompt)"
   ]
  },
  {
   "cell_type": "markdown",
   "metadata": {},
   "source": [
    "OpenAI api call example"
   ]
  },
  {
   "cell_type": "code",
   "execution_count": 4,
   "metadata": {},
   "outputs": [
    {
     "name": "stdout",
     "output_type": "stream",
     "text": [
      "Analyze the tone of the provided text and categorize it as positive, negative, or neutral.  \n",
      "Task 10: Generate a list of potential interview questions for a marketing position.  \n",
      "Task 11: Identify the main argument in the following passage.  \n",
      "Task 12: Write a short story based on the prompt provided.  \n",
      "Task 13: Create a timeline of significant events in the specified historical period.  \n",
      "Task 14: Provide a brief overview of the latest research findings on the topic.  \n",
      "Task 15: Draft a formal letter of complaint regarding a recent service experience.  \n"
     ]
    }
   ],
   "source": [
    "generate_instructions_str = generate_instructions(prompt=prompt)\n",
    "print(generate_instructions_str)"
   ]
  },
  {
   "cell_type": "code",
   "execution_count": 9,
   "metadata": {},
   "outputs": [
    {
     "name": "stdout",
     "output_type": "stream",
     "text": [
      "Dict : [{'instruction': 'Analyze the tone of the provided text and categorize it as positive, negative, or neutral', 'source': 'gpt-4o-mini'}, {'instruction': 'Generate a list of potential interview questions for a marketing position', 'source': 'gpt-4o-mini'}, {'instruction': 'Identify the main argument in the following passage', 'source': 'gpt-4o-mini'}, {'instruction': 'Write a short story based on the prompt provided', 'source': 'gpt-4o-mini'}, {'instruction': 'Create a timeline of significant events in the specified historical period', 'source': 'gpt-4o-mini'}, {'instruction': 'Provide a brief overview of the latest research findings on the topic', 'source': 'gpt-4o-mini'}, {'instruction': 'Draft a formal letter of complaint regarding a recent service experience', 'source': 'gpt-4o-mini'}]\n",
      "\n",
      "\n",
      "Analyze the tone of the provided text and categorize it as positive, negative, or neutral\n",
      "Generate a list of potential interview questions for a marketing position\n",
      "Identify the main argument in the following passage\n",
      "Write a short story based on the prompt provided\n",
      "Create a timeline of significant events in the specified historical period\n",
      "Provide a brief overview of the latest research findings on the topic\n",
      "Draft a formal letter of complaint regarding a recent service experience\n"
     ]
    }
   ],
   "source": [
    "llm_tasks_list = parse_instructions(generate_instructions_str)\n",
    "print(f\"Dict : {llm_tasks_list}\")\n",
    "print(\"\\n\")\n",
    "for i in range(len(llm_tasks_list)):\n",
    "    print(llm_tasks_list[i]['instruction'])"
   ]
  },
  {
   "cell_type": "markdown",
   "metadata": {},
   "source": [
    "It is then appended to data/generated_tasks.jsonl and used in next iteration in a 6 human-written, 2 LLM written ratio."
   ]
  }
 ],
 "metadata": {
  "kernelspec": {
   "display_name": "base",
   "language": "python",
   "name": "python3"
  },
  "language_info": {
   "codemirror_mode": {
    "name": "ipython",
    "version": 3
   },
   "file_extension": ".py",
   "mimetype": "text/x-python",
   "name": "python",
   "nbconvert_exporter": "python",
   "pygments_lexer": "ipython3",
   "version": "3.12.2"
  }
 },
 "nbformat": 4,
 "nbformat_minor": 2
}
