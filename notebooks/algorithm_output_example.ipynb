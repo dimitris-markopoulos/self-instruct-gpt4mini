{
 "cells": [
  {
   "cell_type": "code",
   "execution_count": null,
   "metadata": {},
   "outputs": [],
   "source": [
    "import os\n",
    "os.chdir('..')\n",
    "from scripts.bootstrap_generation import grab_subsample, create_prompt, generate_instructions"
   ]
  },
  {
   "cell_type": "code",
   "execution_count": 2,
   "metadata": {},
   "outputs": [
    {
     "name": "stdout",
     "output_type": "stream",
     "text": [
      "Replace the <mask> token in the text with proper words that are consistent with the context. You can use multiple words for each <mask> token.\n",
      "Write a story that contains the given words in 4 sentences.\n",
      "Write a cover letter based on the given facts.\n",
      "Classify whether the following email is a spam or not. Output true or false.\n",
      "Question: in which year did Yao Ming retire?\n",
      "Answer:\n",
      "Try coming up with a creative way to stay motivated during a workout.\n",
      "Select the longest sentence in terms of the number of words in the paragraph, output the sentence index.\n",
      "Write an example of unethical behavior at the workplace and explain why it is unethical.\n"
     ]
    }
   ],
   "source": [
    "sample_list = grab_subsample()\n",
    "# data from original paper\n",
    "for task in sample_list:\n",
    "    print(task[\"instruction\"])"
   ]
  },
  {
   "cell_type": "code",
   "execution_count": 3,
   "metadata": {},
   "outputs": [
    {
     "name": "stdout",
     "output_type": "stream",
     "text": [
      "Task 1: Replace the <mask> token in the text with proper words that are consistent with the context. You can use multiple words for each <mask> token.\n",
      "Task 2: Write a story that contains the given words in 4 sentences.\n",
      "Task 3: Write a cover letter based on the given facts.\n",
      "Task 4: Classify whether the following email is a spam or not. Output true or false.\n",
      "Task 5: Question: in which year did Yao Ming retire?\n",
      "Answer:\n",
      "Task 6: Try coming up with a creative way to stay motivated during a workout.\n",
      "Task 7: Select the longest sentence in terms of the number of words in the paragraph, output the sentence index.\n",
      "Task 8: Write an example of unethical behavior at the workplace and explain why it is unethical.\n",
      "Task 9:\n"
     ]
    }
   ],
   "source": [
    "prompt = create_prompt(sample_list)\n",
    "print(prompt)"
   ]
  },
  {
   "cell_type": "markdown",
   "metadata": {},
   "source": [
    "OpenAI api call example"
   ]
  },
  {
   "cell_type": "code",
   "execution_count": 4,
   "metadata": {},
   "outputs": [
    {
     "name": "stdout",
     "output_type": "stream",
     "text": [
      "Create a dialogue between two characters discussing their favorite books, ensuring to include specific titles and authors.  \n",
      "Task 10: Summarize the main points of the provided article in three bullet points.  \n",
      "Task 11: Generate a list of five potential interview questions for a marketing position.  \n",
      "Task 12: Analyze the given data set and identify any trends or patterns present.  \n",
      "Task 13: Write a poem inspired by the theme of change, using at least three different poetic devices.\n"
     ]
    }
   ],
   "source": [
    "print(generate_instructions(prompt=prompt))"
   ]
  },
  {
   "cell_type": "markdown",
   "metadata": {},
   "source": [
    "now requires some processing but this is the idea - it is then appended to data/generated_tasks.jsonl and used in next iteration in a 6 human-written, 2 LLM written ratio."
   ]
  }
 ],
 "metadata": {
  "kernelspec": {
   "display_name": "base",
   "language": "python",
   "name": "python3"
  },
  "language_info": {
   "codemirror_mode": {
    "name": "ipython",
    "version": 3
   },
   "file_extension": ".py",
   "mimetype": "text/x-python",
   "name": "python",
   "nbconvert_exporter": "python",
   "pygments_lexer": "ipython3",
   "version": "3.12.2"
  }
 },
 "nbformat": 4,
 "nbformat_minor": 2
}
